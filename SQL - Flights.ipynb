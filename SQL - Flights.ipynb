{
 "cells": [
  {
   "cell_type": "markdown",
   "metadata": {},
   "source": [
    "## Documentation: https://spark.apache.org/docs/latest/api/python/pyspark.sql.html"
   ]
  },
  {
   "cell_type": "markdown",
   "metadata": {},
   "source": [
    "Initilizing SQLContext"
   ]
  },
  {
   "cell_type": "code",
   "execution_count": 1,
   "metadata": {
    "collapsed": false
   },
   "outputs": [],
   "source": [
    "import pyspark\n",
    "!rm -rf metastore_db/\n",
    "from pyspark.sql import SQLContext\n",
    "sqlContext = SQLContext(sc)"
   ]
  },
  {
   "cell_type": "markdown",
   "metadata": {},
   "source": [
    "To use RDD in SQLContext, RDD lines have to be converted into a Row format"
   ]
  },
  {
   "cell_type": "code",
   "execution_count": 2,
   "metadata": {
    "collapsed": false
   },
   "outputs": [],
   "source": [
    "import re\n",
    "from pyspark.sql import Row # https://spark.apache.org/docs/1.6.2/api/python/pyspark.sql.html#pyspark.sql.Row\n",
    "# Read from CSV\n",
    "def load_csv(line):\n",
    "    return re.split(\"\\\"?,\\\"?\", line)\n",
    "        \n",
    "def readInt(x):\n",
    "    try:\n",
    "        return int(x)\n",
    "    except:\n",
    "        return x\n",
    "\n",
    "def parseElement(e):\n",
    "    return Row( year=readInt(e[0]),\n",
    "                month=readInt(e[1]),\n",
    "                day=readInt(e[2]),\n",
    "                dep_time=readInt(e[3]),\n",
    "                dep_delay=readInt(e[4]),\n",
    "                arr_time=readInt(e[5]),\n",
    "                arr_delay=readInt(e[6]),\n",
    "                cancelled=e[7],\n",
    "                carrier=e[8],\n",
    "                tailnum=e[9],\n",
    "                flight=readInt(e[10]),\n",
    "                origin=e[11],\n",
    "                dest=e[12],\n",
    "                air_time=readInt(e[13]),\n",
    "                distance=readInt(e[14]),\n",
    "                hour=readInt(e[15]),\n",
    "                min=readInt(e[16])\n",
    "    )"
   ]
  },
  {
   "cell_type": "code",
   "execution_count": 3,
   "metadata": {
    "collapsed": false
   },
   "outputs": [
    {
     "name": "stdout",
     "output_type": "stream",
     "text": [
      "--2017-01-25 15:30:22--  https://dsr-data.s3.amazonaws.com/flights/flights14.csv\n",
      "Resolving dsr-data.s3.amazonaws.com (dsr-data.s3.amazonaws.com)... 52.219.73.22\n",
      "Connecting to dsr-data.s3.amazonaws.com (dsr-data.s3.amazonaws.com)|52.219.73.22|:443... connected.\n",
      "HTTP request sent, awaiting response... 200 OK\n",
      "Length: 16150465 (15M) [text/csv]\n",
      "Saving to: ‘/tmp/flights14.csv.2’\n",
      "\n",
      "flights14.csv.2     100%[===================>]  15,40M  7,15MB/s    in 2,2s    \n",
      "\n",
      "2017-01-25 15:30:25 (7,15 MB/s) - ‘/tmp/flights14.csv.2’ saved [16150465/16150465]\n",
      "\n"
     ]
    }
   ],
   "source": [
    "!wget -P /tmp https://dsr-data.s3.amazonaws.com/flights/flights14.csv\n",
    "#!hadoop fs -put /tmp/flights14.csv /tmp"
   ]
  },
  {
   "cell_type": "code",
   "execution_count": 5,
   "metadata": {
    "collapsed": false
   },
   "outputs": [],
   "source": [
    "flights = sc.textFile(\"/tmp/flights14.csv\").map(load_csv).filter(lambda e: not e[0] == \"year\").map(parseElement).cache()"
   ]
  },
  {
   "cell_type": "markdown",
   "metadata": {},
   "source": [
    "Now the schema and the RDD have to be registered with the sqlContext:"
   ]
  },
  {
   "cell_type": "code",
   "execution_count": 6,
   "metadata": {
    "collapsed": false,
    "scrolled": false
   },
   "outputs": [],
   "source": [
    "flightsDF = sqlContext.createDataFrame(flights) #create a dataframe"
   ]
  },
  {
   "cell_type": "code",
   "execution_count": 7,
   "metadata": {
    "collapsed": true
   },
   "outputs": [],
   "source": [
    "flightsDF.registerTempTable(\"flight\") #register as a table"
   ]
  },
  {
   "cell_type": "code",
   "execution_count": 8,
   "metadata": {
    "collapsed": false
   },
   "outputs": [
    {
     "data": {
      "text/plain": [
       "[Row(air_time=359, arr_delay=13, arr_time=1238, cancelled='0', carrier='AA', day=1, dep_delay=14, dep_time=914, dest='LAX', distance=2475, flight=1, hour=9, min=14, month=1, origin='JFK', tailnum='N338AA', year=2014),\n",
       " Row(air_time=363, arr_delay=13, arr_time=1523, cancelled='0', carrier='AA', day=1, dep_delay=-3, dep_time=1157, dest='LAX', distance=2475, flight=3, hour=11, min=57, month=1, origin='JFK', tailnum='N335AA', year=2014),\n",
       " Row(air_time=351, arr_delay=9, arr_time=2224, cancelled='0', carrier='AA', day=1, dep_delay=2, dep_time=1902, dest='LAX', distance=2475, flight=21, hour=19, min=2, month=1, origin='JFK', tailnum='N327AA', year=2014),\n",
       " Row(air_time=350, arr_delay=1, arr_time=1706, cancelled='0', carrier='AA', day=1, dep_delay=2, dep_time=1347, dest='LAX', distance=2475, flight=117, hour=13, min=47, month=1, origin='JFK', tailnum='N319AA', year=2014),\n",
       " Row(air_time=339, arr_delay=0, arr_time=2145, cancelled='0', carrier='AA', day=1, dep_delay=4, dep_time=1824, dest='LAX', distance=2454, flight=119, hour=18, min=24, month=1, origin='EWR', tailnum='N3DEAA', year=2014)]"
      ]
     },
     "execution_count": 8,
     "metadata": {},
     "output_type": "execute_result"
    }
   ],
   "source": [
    "sqlContext.sql(\"select * from flight where dest = 'LAX'\").take(5)"
   ]
  },
  {
   "cell_type": "code",
   "execution_count": 9,
   "metadata": {
    "collapsed": false
   },
   "outputs": [
    {
     "data": {
      "text/plain": [
       "2750"
      ]
     },
     "execution_count": 9,
     "metadata": {},
     "output_type": "execute_result"
    }
   ],
   "source": [
    "flightsDF.where(\"origin = 'JFK' AND dest = 'MIA'\").count()"
   ]
  },
  {
   "cell_type": "code",
   "execution_count": 10,
   "metadata": {
    "collapsed": false
   },
   "outputs": [
    {
     "data": {
      "text/plain": [
       "[Row(air_time=161, arr_delay=-17, arr_time=1828, cancelled='0', carrier='AA', day=1, dep_delay=-1, dep_time=1509, dest='MIA', distance=1089, flight=145, hour=15, min=9, month=1, origin='JFK', tailnum='N5FJAA', year=2014),\n",
       " Row(air_time=166, arr_delay=-8, arr_time=1227, cancelled='0', carrier='AA', day=1, dep_delay=7, dep_time=917, dest='MIA', distance=1089, flight=1085, hour=9, min=17, month=1, origin='JFK', tailnum='N5DWAA', year=2014)]"
      ]
     },
     "execution_count": 10,
     "metadata": {},
     "output_type": "execute_result"
    }
   ],
   "source": [
    "flightsDF.where(\"origin = 'JFK' AND dest = 'MIA'\").limit(2).collect()"
   ]
  },
  {
   "cell_type": "markdown",
   "metadata": {
    "collapsed": true
   },
   "source": [
    "### Count the flights that departed early and arrived late"
   ]
  },
  {
   "cell_type": "code",
   "execution_count": 15,
   "metadata": {
    "collapsed": false
   },
   "outputs": [
    {
     "data": {
      "text/plain": [
       "30239"
      ]
     },
     "execution_count": 15,
     "metadata": {},
     "output_type": "execute_result"
    }
   ],
   "source": [
    "flightsDF.where(\"dep_delay < 0 AND arr_delay > 0\").count()"
   ]
  },
  {
   "cell_type": "code",
   "execution_count": 21,
   "metadata": {
    "collapsed": false
   },
   "outputs": [
    {
     "name": "stdout",
     "output_type": "stream",
     "text": [
      "+-------+------------------+-----------------+------------------+------------------+------------------+------------------+------------------+------------------+------------------+------------------+-----------------+------+\n",
      "|summary|          air_time|        arr_delay|          arr_time|               day|         dep_delay|          dep_time|          distance|            flight|              hour|               min|            month|  year|\n",
      "+-------+------------------+-----------------+------------------+------------------+------------------+------------------+------------------+------------------+------------------+------------------+-----------------+------+\n",
      "|  count|            253316|           253316|            253316|            253316|            253316|            253316|            253316|            253316|            253316|            253316|           253316|253316|\n",
      "|   mean|156.72282445641017| 8.14670214277819|1494.3299002036981|15.893697989862464|12.465264728639328|1338.2382794612263|1099.4452738871607|1840.8199758404523|13.063434603420234|31.894819119202893|5.638577902698605|2014.0|\n",
      "| stddev| 96.12977586780774|45.74945151299286| 533.8176995845611| 8.763096818854915| 41.64876323690395|488.62422659559763|  752.982282057599|1559.7486576669082| 4.897890579968293|18.138601400023035|2.820866499653783|   0.0|\n",
      "|    min|                20|             -112|                 1|                 1|              -112|                 1|                80|                 1|                 0|                 0|                1|  2014|\n",
      "|    max|               706|             1494|              2400|                31|              1498|              2400|              4983|              6443|                24|                59|               10|  2014|\n",
      "+-------+------------------+-----------------+------------------+------------------+------------------+------------------+------------------+------------------+------------------+------------------+-----------------+------+\n",
      "\n"
     ]
    }
   ],
   "source": [
    "flightsDF.describe().show()"
   ]
  },
  {
   "cell_type": "code",
   "execution_count": 20,
   "metadata": {
    "collapsed": false
   },
   "outputs": [
    {
     "data": {
      "text/plain": [
       "['air_time',\n",
       " 'arr_delay',\n",
       " 'arr_time',\n",
       " 'cancelled',\n",
       " 'carrier',\n",
       " 'day',\n",
       " 'dep_delay',\n",
       " 'dep_time',\n",
       " 'dest',\n",
       " 'distance',\n",
       " 'flight',\n",
       " 'hour',\n",
       " 'min',\n",
       " 'month',\n",
       " 'origin',\n",
       " 'tailnum',\n",
       " 'year']"
      ]
     },
     "execution_count": 20,
     "metadata": {},
     "output_type": "execute_result"
    }
   ],
   "source": [
    "flightsDF.columns  ## list of columns"
   ]
  },
  {
   "cell_type": "code",
   "execution_count": 19,
   "metadata": {
    "collapsed": false
   },
   "outputs": [
    {
     "name": "stdout",
     "output_type": "stream",
     "text": [
      "root\n",
      " |-- air_time: long (nullable = true)\n",
      " |-- arr_delay: long (nullable = true)\n",
      " |-- arr_time: long (nullable = true)\n",
      " |-- cancelled: string (nullable = true)\n",
      " |-- carrier: string (nullable = true)\n",
      " |-- day: long (nullable = true)\n",
      " |-- dep_delay: long (nullable = true)\n",
      " |-- dep_time: long (nullable = true)\n",
      " |-- dest: string (nullable = true)\n",
      " |-- distance: long (nullable = true)\n",
      " |-- flight: long (nullable = true)\n",
      " |-- hour: long (nullable = true)\n",
      " |-- min: long (nullable = true)\n",
      " |-- month: long (nullable = true)\n",
      " |-- origin: string (nullable = true)\n",
      " |-- tailnum: string (nullable = true)\n",
      " |-- year: long (nullable = true)\n",
      "\n"
     ]
    }
   ],
   "source": [
    "flightsDF.printSchema()     # To see the datatype of columns"
   ]
  },
  {
   "cell_type": "markdown",
   "metadata": {},
   "source": [
    "### Find the flightwith the longest arrival delay"
   ]
  },
  {
   "cell_type": "code",
   "execution_count": 22,
   "metadata": {
    "collapsed": false
   },
   "outputs": [
    {
     "data": {
      "text/plain": [
       "Row(air_time=200, arr_delay=1494, arr_time=1008, cancelled='0', carrier='AA', day=4, dep_delay=1498, dep_time=727, dest='DFW', distance=1372, flight=1381, hour=7, min=27, month=10, origin='EWR', tailnum='N4WJAA', year=2014)"
      ]
     },
     "execution_count": 22,
     "metadata": {},
     "output_type": "execute_result"
    }
   ],
   "source": [
    "flightsDF.orderBy(flightsDF.arr_delay.desc()).first()"
   ]
  },
  {
   "cell_type": "markdown",
   "metadata": {},
   "source": [
    "### Find the top 10 destinations ordered by the number of flights"
   ]
  },
  {
   "cell_type": "code",
   "execution_count": 30,
   "metadata": {
    "collapsed": false
   },
   "outputs": [
    {
     "name": "stdout",
     "output_type": "stream",
     "text": [
      "root\n",
      " |-- dest: string (nullable = true)\n",
      " |-- count: long (nullable = false)\n",
      "\n"
     ]
    }
   ],
   "source": [
    "group_dest_cts = flightsDF.groupBy(flightsDF.dest).count()  ### Groups by destinations and counts\n",
    "group_dest_cts.printSchema() "
   ]
  },
  {
   "cell_type": "code",
   "execution_count": 45,
   "metadata": {
    "collapsed": false
   },
   "outputs": [
    {
     "name": "stdout",
     "output_type": "stream",
     "text": [
      "+----+-----+\n",
      "|dest|count|\n",
      "+----+-----+\n",
      "| PSE|  289|\n",
      "| MSY| 2628|\n",
      "| BUR|  289|\n",
      "| SNA|  657|\n",
      "| GRR|  756|\n",
      "+----+-----+\n",
      "only showing top 5 rows\n",
      "\n"
     ]
    }
   ],
   "source": [
    "group_dest_cts.show(5)"
   ]
  },
  {
   "cell_type": "code",
   "execution_count": 57,
   "metadata": {
    "collapsed": false
   },
   "outputs": [
    {
     "name": "stdout",
     "output_type": "stream",
     "text": [
      "+----+-----+\n",
      "|dest|count|\n",
      "+----+-----+\n",
      "| LAX|14434|\n",
      "| ATL|12808|\n",
      "| SFO|11907|\n",
      "| MCO|11709|\n",
      "| BOS|11609|\n",
      "| ORD|11589|\n",
      "| MIA| 9928|\n",
      "| CLT| 9624|\n",
      "| FLL| 9471|\n",
      "| DCA| 6748|\n",
      "+----+-----+\n",
      "only showing top 10 rows\n",
      "\n"
     ]
    }
   ],
   "source": [
    "group_dest_cts.sort(\"count\", ascending = False).show(10)"
   ]
  },
  {
   "cell_type": "markdown",
   "metadata": {},
   "source": [
    "### Find top 10 destinations with the worst avg arrival delay, ignoring flights that arrived early"
   ]
  },
  {
   "cell_type": "code",
   "execution_count": 72,
   "metadata": {
    "collapsed": false
   },
   "outputs": [
    {
     "name": "stdout",
     "output_type": "stream",
     "text": [
      "+----+------------------+\n",
      "|dest|    avg(arr_delay)|\n",
      "+----+------------------+\n",
      "| EGE| 80.59016393442623|\n",
      "| AVP|              67.0|\n",
      "| JAC|59.666666666666664|\n",
      "| CAK|57.907042253521126|\n",
      "| TUL| 56.99152542372882|\n",
      "| MSN| 54.80237154150198|\n",
      "| IAD|53.324599708879184|\n",
      "| BGR| 52.73504273504273|\n",
      "| OKC| 52.14503816793893|\n",
      "| TVC| 51.15151515151515|\n",
      "+----+------------------+\n",
      "only showing top 10 rows\n",
      "\n"
     ]
    }
   ],
   "source": [
    "delayed_flights = flightsDF.where(\"arr_delay > 0\")\n",
    "delayed_flights_sum = delayed_flights.groupby(delayed_flights.dest).agg({'arr_delay': 'mean'})\n",
    "delayed_flights_sum.sort('avg(arr_delay)', ascending = False).show(10)"
   ]
  },
  {
   "cell_type": "markdown",
   "metadata": {},
   "source": [
    "### Take a sample of 1% of the flights and then calculate the average departure delay for that sample"
   ]
  },
  {
   "cell_type": "code",
   "execution_count": null,
   "metadata": {
    "collapsed": true
   },
   "outputs": [],
   "source": []
  },
  {
   "cell_type": "markdown",
   "metadata": {},
   "source": [
    "### For all flights from JFK during June, show the average departure delay for each destination"
   ]
  },
  {
   "cell_type": "code",
   "execution_count": null,
   "metadata": {
    "collapsed": true
   },
   "outputs": [],
   "source": []
  },
  {
   "cell_type": "markdown",
   "metadata": {},
   "source": [
    "### For every origin/dest pair, count the number of flights"
   ]
  },
  {
   "cell_type": "code",
   "execution_count": null,
   "metadata": {
    "collapsed": true
   },
   "outputs": [],
   "source": []
  }
 ],
 "metadata": {
  "anaconda-cloud": {},
  "kernelspec": {
   "display_name": "Python [default]",
   "language": "python",
   "name": "python3"
  },
  "language_info": {
   "codemirror_mode": {
    "name": "ipython",
    "version": 3
   },
   "file_extension": ".py",
   "mimetype": "text/x-python",
   "name": "python",
   "nbconvert_exporter": "python",
   "pygments_lexer": "ipython3",
   "version": "3.5.2"
  }
 },
 "nbformat": 4,
 "nbformat_minor": 0
}

{
 "cells": [
  {
   "cell_type": "code",
   "execution_count": 3,
   "metadata": {
    "collapsed": false
   },
   "outputs": [],
   "source": [
    "!rm -rf metastore_db/\n",
    "import pyspark"
   ]
  },
  {
   "cell_type": "markdown",
   "metadata": {},
   "source": [
    "It would be bit cleaner to use nltk to do the tokenization, but we don't have nltk installed in our cluster."
   ]
  },
  {
   "cell_type": "code",
   "execution_count": 4,
   "metadata": {
    "collapsed": true
   },
   "outputs": [],
   "source": [
    "def tokenize(s):\n",
    "    import re\n",
    "    stopwords = set(['i', 'me', 'my', 'myself', 'we', 'our', 'ours', 'ourselves', 'you', 'your', 'yours', 'yourself', 'yourselves', 'he', 'him', 'his', 'himself', 'she', 'her', 'hers', 'herself', 'it', 'its', 'itself', 'they', 'them', 'their', 'theirs', 'themselves', 'what', 'which', 'who', 'whom', 'this', 'that', 'these', 'those', 'am', 'is', 'are', 'was', 'were', 'be', 'been', 'being', 'have', 'has', 'had', 'having', 'do', 'does', 'did', 'doing', 'a', 'an', 'the', 'and', 'but', 'if', 'or', 'because', 'as', 'until', 'while', 'of', 'at', 'by', 'for', 'with', 'about', 'against', 'between', 'into', 'through', 'during', 'before', 'after', 'above', 'below', 'to', 'from', 'up', 'down', 'in', 'out', 'on', 'off', 'over', 'under', 'again', 'further', 'then', 'once', 'here', 'there', 'when', 'where', 'why', 'how', 'all', 'any', 'both', 'each', 'few', 'more', 'most', 'other', 'some', 'such', 'no', 'nor', 'not', 'only', 'own', 'same', 'so', 'than', 'too', 'very', 's', 't', 'can', 'will', 'just', 'don', 'should', 'now'])\n",
    "    word_regex = '^[a-z][a-z\\'-]+[a-z]$'\n",
    "    s = s.lower()\n",
    "    arr = s.split()\n",
    "    terms = []\n",
    "    for term in arr:\n",
    "        if re.match(word_regex, term) != None and len(term) > 3 and term not in stopwords:\n",
    "            terms.append(term)\n",
    "    return terms\n"
   ]
  },
  {
   "cell_type": "code",
   "execution_count": 5,
   "metadata": {
    "collapsed": true
   },
   "outputs": [],
   "source": [
    "test_strings = ['the quick brown fox jumps over the brown fence.',\n",
    "              'the boy paints a tall fence brown!',\n",
    "              'basketball players are tall.',\n",
    "              'quick basketball players jump high']"
   ]
  },
  {
   "cell_type": "code",
   "execution_count": 6,
   "metadata": {
    "collapsed": true
   },
   "outputs": [],
   "source": [
    "tokens = sc.parallelize(test_strings).map(tokenize)"
   ]
  },
  {
   "cell_type": "code",
   "execution_count": 7,
   "metadata": {
    "collapsed": false
   },
   "outputs": [
    {
     "data": {
      "text/plain": [
       "[['quick', 'brown', 'jumps', 'brown'],\n",
       " ['paints', 'tall', 'fence'],\n",
       " ['basketball', 'players'],\n",
       " ['quick', 'basketball', 'players', 'jump', 'high']]"
      ]
     },
     "execution_count": 7,
     "metadata": {},
     "output_type": "execute_result"
    }
   ],
   "source": [
    "tokens.collect()"
   ]
  },
  {
   "cell_type": "code",
   "execution_count": 8,
   "metadata": {
    "collapsed": false
   },
   "outputs": [
    {
     "data": {
      "text/plain": [
       "['quick',\n",
       " 'jump',\n",
       " 'high',\n",
       " 'brown',\n",
       " 'tall',\n",
       " 'players',\n",
       " 'paints',\n",
       " 'jumps',\n",
       " 'fence',\n",
       " 'basketball']"
      ]
     },
     "execution_count": 8,
     "metadata": {},
     "output_type": "execute_result"
    }
   ],
   "source": [
    "vocab = tokens.flatMap(lambda words: words).distinct()\n",
    "vocab.collect()"
   ]
  },
  {
   "cell_type": "code",
   "execution_count": 9,
   "metadata": {
    "collapsed": false
   },
   "outputs": [],
   "source": [
    "from collections import Counter\n",
    "import numpy as np\n",
    "\n",
    "#sc.broadcast shares an immutable object throughout the cluster\n",
    "broadcastVocab = sc.broadcast(vocab.collect())\n",
    "\n",
    "def bow_vectorize(tokens):\n",
    "    word_counts = Counter(tokens)\n",
    "    vector = [word_counts[v] if v in word_counts else 0 for v in broadcastVocab.value]\n",
    "    return np.array(vector)"
   ]
  },
  {
   "cell_type": "code",
   "execution_count": 10,
   "metadata": {
    "collapsed": false
   },
   "outputs": [
    {
     "data": {
      "text/plain": [
       "[array([1, 0, 0, 2, 0, 0, 0, 1, 0, 0]),\n",
       " array([0, 0, 0, 0, 1, 0, 1, 0, 1, 0]),\n",
       " array([0, 0, 0, 0, 0, 1, 0, 0, 0, 1]),\n",
       " array([1, 1, 1, 0, 0, 1, 0, 0, 0, 1])]"
      ]
     },
     "execution_count": 10,
     "metadata": {},
     "output_type": "execute_result"
    }
   ],
   "source": [
    "tokens.map(bow_vectorize).collect()"
   ]
  },
  {
   "cell_type": "code",
   "execution_count": 11,
   "metadata": {
    "collapsed": false
   },
   "outputs": [
    {
     "data": {
      "text/plain": [
       "['quick',\n",
       " 'jump',\n",
       " 'high',\n",
       " 'brown',\n",
       " 'tall',\n",
       " 'players',\n",
       " 'paints',\n",
       " 'jumps',\n",
       " 'fence',\n",
       " 'basketball']"
      ]
     },
     "execution_count": 11,
     "metadata": {},
     "output_type": "execute_result"
    }
   ],
   "source": [
    "broadcastVocab.value"
   ]
  },
  {
   "cell_type": "code",
   "execution_count": 12,
   "metadata": {
    "collapsed": false
   },
   "outputs": [],
   "source": [
    "term_freq = tokens.map(lambda terms: Counter(terms))"
   ]
  },
  {
   "cell_type": "code",
   "execution_count": 13,
   "metadata": {
    "collapsed": false
   },
   "outputs": [
    {
     "data": {
      "text/plain": [
       "[('quick', 2),\n",
       " ('jump', 1),\n",
       " ('high', 1),\n",
       " ('brown', 1),\n",
       " ('tall', 1),\n",
       " ('players', 2),\n",
       " ('paints', 1),\n",
       " ('jumps', 1),\n",
       " ('fence', 1),\n",
       " ('basketball', 2)]"
      ]
     },
     "execution_count": 13,
     "metadata": {},
     "output_type": "execute_result"
    }
   ],
   "source": [
    "doc_freq = term_freq.flatMap(lambda counts: counts.keys()).map(lambda keys: (keys, 1)).reduceByKey(lambda a, b: a + b)\n",
    "doc_freq.collect()"
   ]
  },
  {
   "cell_type": "code",
   "execution_count": 14,
   "metadata": {
    "collapsed": false
   },
   "outputs": [
    {
     "data": {
      "text/plain": [
       "4"
      ]
     },
     "execution_count": 14,
     "metadata": {},
     "output_type": "execute_result"
    }
   ],
   "source": [
    "total_docs = term_freq.count()\n",
    "total_docs"
   ]
  },
  {
   "cell_type": "code",
   "execution_count": 15,
   "metadata": {
    "collapsed": false
   },
   "outputs": [
    {
     "data": {
      "text/plain": [
       "[('quick', 0.28768207245178085),\n",
       " ('jump', 0.6931471805599453),\n",
       " ('high', 0.6931471805599453),\n",
       " ('brown', 0.6931471805599453),\n",
       " ('tall', 0.6931471805599453),\n",
       " ('players', 0.28768207245178085),\n",
       " ('paints', 0.6931471805599453),\n",
       " ('jumps', 0.6931471805599453),\n",
       " ('fence', 0.6931471805599453),\n",
       " ('basketball', 0.28768207245178085)]"
      ]
     },
     "execution_count": 15,
     "metadata": {},
     "output_type": "execute_result"
    }
   ],
   "source": [
    "import math\n",
    "\n",
    "idf = doc_freq.map(lambda tup: (tup[0], math.log(float(total_docs)/ (1 + tup[1])))).collect()\n",
    "idf"
   ]
  },
  {
   "cell_type": "code",
   "execution_count": 16,
   "metadata": {
    "collapsed": true
   },
   "outputs": [],
   "source": [
    "broadcast_idf = sc.broadcast(idf)"
   ]
  },
  {
   "cell_type": "code",
   "execution_count": 17,
   "metadata": {
    "collapsed": false
   },
   "outputs": [],
   "source": [
    "def tfidf_vectorize(tokens):\n",
    "    word_counts = Counter(tokens)\n",
    "    doc_length = sum(word_counts.values())\n",
    "    \n",
    "    vector = [ word_counts.get(word[0], 0) * word[1] / float(doc_length) for word in broadcast_idf.value ]\n",
    "    return np.array(vector)"
   ]
  },
  {
   "cell_type": "code",
   "execution_count": 18,
   "metadata": {
    "collapsed": false
   },
   "outputs": [
    {
     "data": {
      "text/plain": [
       "[array([ 0.07192052,  0.        ,  0.        ,  0.34657359,  0.        ,\n",
       "         0.        ,  0.        ,  0.1732868 ,  0.        ,  0.        ]),\n",
       " array([ 0.        ,  0.        ,  0.        ,  0.        ,  0.23104906,\n",
       "         0.        ,  0.23104906,  0.        ,  0.23104906,  0.        ]),\n",
       " array([ 0.        ,  0.        ,  0.        ,  0.        ,  0.        ,\n",
       "         0.14384104,  0.        ,  0.        ,  0.        ,  0.14384104]),\n",
       " array([ 0.05753641,  0.13862944,  0.13862944,  0.        ,  0.        ,\n",
       "         0.05753641,  0.        ,  0.        ,  0.        ,  0.05753641])]"
      ]
     },
     "execution_count": 18,
     "metadata": {},
     "output_type": "execute_result"
    }
   ],
   "source": [
    "tfidf = tokens.map(tfidf_vectorize)\n",
    "tfidf.collect()"
   ]
  },
  {
   "cell_type": "code",
   "execution_count": 19,
   "metadata": {
    "collapsed": false
   },
   "outputs": [
    {
     "data": {
      "text/plain": [
       "[array([1, 0, 0, 2, 0, 0, 0, 1, 0, 0]),\n",
       " array([0, 0, 0, 0, 1, 0, 1, 0, 1, 0]),\n",
       " array([0, 0, 0, 0, 0, 1, 0, 0, 0, 1]),\n",
       " array([1, 1, 1, 0, 0, 1, 0, 0, 0, 1])]"
      ]
     },
     "execution_count": 19,
     "metadata": {},
     "output_type": "execute_result"
    }
   ],
   "source": [
    "bow = tokens.map(bow_vectorize).cache()\n",
    "bow.collect()"
   ]
  },
  {
   "cell_type": "code",
   "execution_count": 20,
   "metadata": {
    "collapsed": true
   },
   "outputs": [],
   "source": [
    "from pyspark.mllib.clustering import KMeans, KMeansModel\n",
    "from math import sqrt"
   ]
  },
  {
   "cell_type": "code",
   "execution_count": 21,
   "metadata": {
    "collapsed": false
   },
   "outputs": [
    {
     "name": "stderr",
     "output_type": "stream",
     "text": [
      "/home/ubuntu/spark/python/pyspark/mllib/clustering.py:347: UserWarning: The param `runs` has no effect since Spark 2.0.0.\n",
      "  warnings.warn(\"The param `runs` has no effect since Spark 2.0.0.\")\n"
     ]
    }
   ],
   "source": [
    "clusters = KMeans.train(tfidf, 2, maxIterations=10, runs=10, initializationMode=\"random\")"
   ]
  },
  {
   "cell_type": "code",
   "execution_count": 22,
   "metadata": {
    "collapsed": true
   },
   "outputs": [],
   "source": [
    "def error(point):\n",
    "    center = clusters.centers[clusters.predict(point)]\n",
    "    return sqrt(sum([x**2 for x in (point - center)]))"
   ]
  },
  {
   "cell_type": "code",
   "execution_count": 23,
   "metadata": {
    "collapsed": false
   },
   "outputs": [
    {
     "name": "stdout",
     "output_type": "stream",
     "text": [
      "Within Set Sum of Squared Error = 0.667330168412\n"
     ]
    }
   ],
   "source": [
    "WSSSE = tfidf.map(lambda point: error(point)).reduce(lambda x, y: x + y)\n",
    "print(\"Within Set Sum of Squared Error = \" + str(WSSSE))"
   ]
  },
  {
   "cell_type": "code",
   "execution_count": 24,
   "metadata": {
    "collapsed": false
   },
   "outputs": [
    {
     "data": {
      "text/plain": [
       "[array([ 0.0191788 ,  0.04620981,  0.04620981,  0.        ,  0.07701635,\n",
       "         0.06712582,  0.07701635,  0.        ,  0.07701635,  0.06712582]),\n",
       " array([ 0.07192052,  0.        ,  0.        ,  0.34657359,  0.        ,\n",
       "         0.        ,  0.        ,  0.1732868 ,  0.        ,  0.        ])]"
      ]
     },
     "execution_count": 24,
     "metadata": {},
     "output_type": "execute_result"
    }
   ],
   "source": [
    "clusters.centers"
   ]
  },
  {
   "cell_type": "code",
   "execution_count": 25,
   "metadata": {
    "collapsed": false
   },
   "outputs": [
    {
     "name": "stdout",
     "output_type": "stream",
     "text": [
      "['fence', 'paints', 'tall']\n",
      "['brown', 'jumps', 'quick']\n"
     ]
    }
   ],
   "source": [
    "top_n = 3\n",
    "print([idf[idx][0] for idx in [np.argsort(x)[::-1][:top_n] for x in clusters.centers][0]])\n",
    "print([idf[idx][0] for idx in [np.argsort(x)[::-1][:top_n] for x in clusters.centers][1]])"
   ]
  },
  {
   "cell_type": "code",
   "execution_count": 26,
   "metadata": {
    "collapsed": false
   },
   "outputs": [],
   "source": [
    "from pyspark.sql import SQLContext, Row\n",
    "sqlCtx = SQLContext(sc)"
   ]
  },
  {
   "cell_type": "code",
   "execution_count": null,
   "metadata": {
    "collapsed": false
   },
   "outputs": [],
   "source": [
    "!wget https://dsr-data.s3.amazonaws.com/enron/enron.json"
   ]
  },
  {
   "cell_type": "code",
   "execution_count": 27,
   "metadata": {
    "collapsed": false,
    "scrolled": true
   },
   "outputs": [],
   "source": [
    "# read as dataframe \n",
    "email = sqlCtx.read.json('enron.json')"
   ]
  },
  {
   "cell_type": "code",
   "execution_count": 28,
   "metadata": {
    "collapsed": false,
    "scrolled": true
   },
   "outputs": [
    {
     "data": {
      "text/plain": [
       "[Row(_id=Row($oid=u'52af48b5d55148fa0c199643'), bcc=[], cc=[], ctype=u'text/plain; charset=us-ascii', date=u'2000-01-12 08:24:00-08:00', fname=u'1.', folder=u'_sent', fpath=u'enron_mail_20110402/maildir/lay-k/_sent/1.', mid=u'18133935.1075840283210.JavaMail.evans@thyme', recipients=[u'sherri.reinartz@enron.com'], replyto=None, sender=u'rosalee.fleming@enron.com', subject=u'Re: EXECUTIVE COMMITTEE MEETINGS - MONDAY, JANUARY 17', text=u'Ken will attend both meetings.\\n\\nRosie\\n\\n\\n\\nSherri Reinartz\\n01/12/2000 03:30 PM\\n\\n\\nTo: James M Bannantine/ENRON_DEVELOPMENT@ENRON_DEVELOPMENT, Cliff \\nBaxter/HOU/ECT@ECT, Sanjay Bhatnagar/ENRON_DEVELOPMENT@ENRON_DEVELOPMENT, \\nRick Buy/HOU/ECT@ECT, Richard Causey/Corp/Enron@ENRON, Diomedes \\nChristodoulou/ENRON_DEVELOPMENT@ENRON_DEVELOPMENT, James V Derrick@Enron, \\nAndrew S Fastow/HOU/ECT@ECT, Peggy Fowler/Enron@Gateway, Mark \\nFrevert/LON/ECT@ECT, Kevin P Hannon/HOU/ECT@ECT, Ken Harrison/Enron@Gateway, \\nDavid Haug/ENRON_DEVELOPMENT@ENRON_DEVELOPMENT, Joe Hirko/Enron \\nCommunications@Enron Communications, Stanley Horton/Corp/Enron@Enron, Kurt S \\nHuneke/ENRON_DEVELOPMENT@ENRON_DEVELOPMENT, Larry L \\nIzzo/ENRON_DEVELOPMENT@ENRON_DEVELOPMENT, Steven J Kean/HOU/EES@EES, Mark \\nKoenig/Corp/Enron@ENRON, Kenneth Lay/Corp/Enron@Enron, Rebecca P \\nMark/HOU/AZURIX@AZURIX, Mike McConnell/HOU/ECT@ECT, Rebecca \\nMcDonald/ENRON_DEVELOPMENT@ENRON_DEVELOPMENT, Jeffrey McMahon/HOU/ECT@ECT, J \\nMark Metts/HOU/ECT@ECT, Cindy Olson/Corp/Enron@ENRON, Lou L Pai/HOU/EES@EES, \\nKenneth D Rice/HOU/ECT@ECT, Jeffrey Sherrick/Corp/Enron@Enron, John \\nSherriff/LON/ECT@ECT, Jeff Skilling/Corp/Enron@ENRON, Joseph W \\nSutton/ENRON_DEVELOPMENT@ENRON_DEVELOPMENT, Greg Whalley/HOU/ECT@ECT, Thomas \\nE White/HOU/EES@EES, Brenda \\nGarza-Castillo/ENRON_DEVELOPMENT@ENRON_DEVELOPMENT, Marcia \\nManarin/ENRON_DEVELOPMENT@ENRON_DEVELOPMENT, Susan Skarness/HOU/ECT@ECT, \\nStacy Guidroz/ENRON_DEVELOPMENT@ENRON_DEVELOPMENT, Beena \\nPradhan/ENRON_DEVELOPMENT@ENRON_DEVELOPMENT, Karen K Heathman/HOU/ECT@ECT, \\nSharron Westbrook/Corp/Enron@ENRON, Molly \\nBobrow/ENRON_DEVELOPMENT@ENRON_DEVELOPMENT, Rosane \\nFabozzi/ENRON_DEVELOPMENT@ENRON_DEVELOPMENT, Stephanie \\nHarris/Corp/Enron@ENRON, Bridget Maronge/HOU/ECT@ECT, Shelby \\nEarle/Corp/Enron@ENRON, Shelby Earle/Corp/Enron@ENRON, Mary \\nTrosper/Enron@Gateway, Nicki Daw/LON/ECT@ECT, Carol Ann Brown/HOU/ECT@ECT, \\nDolly Henrici/Enron@Gateway, Ann Joyner/Corp/Enron@ENRON, Elaine \\nRodriguez/ENRON_DEVELOPMENT@ENRON_DEVELOPMENT, Nancy Young/Enron \\nCommunications@Enron Communications, Ann Joyner/Corp/Enron@ENRON, Cindy \\nStark/Corp/Enron@Enron, Sherryl Stone/ENRON_DEVELOPMENT@ENRON_DEVELOPMENT, \\nMary E Garza/ENRON_DEVELOPMENT@ENRON_DEVELOPMENT, Maureen \\nMcVicker/HOU/EES@EES, Joannie Williamson/Corp/Enron@ENRON, Rosalee \\nFleming/Corp/Enron@Enron, Vanessa Groscrand/Corp/Enron@Enron, Marsha \\nLindsey/HOU/AZURIX@AZURIX, Cathy Phillips/HOU/ECT@ECT, Loretta \\nBrelsford/ENRON_DEVELOPMENT@ENRON_DEVELOPMENT, Sue Ford/HOU/ECT@ECT, Dolores \\nFisher/HOU/ECT@ECT, Karen Owens/HOU/EES@EES, Dorothy B Dalton/HOU/ECT@ECT, \\nChristina Grow/Corp/Enron@Enron, Lauren Urquhart/LON/ECT@ECT, Sherri \\nReinartz/Corp/Enron@ENRON, Katherine Brown/Corp/Enron@ENRON, Pam \\nBenson/ENRON_DEVELOPMENT@ENRON_DEVELOPMENT, Liz M Taylor/HOU/ECT@ECT, Judy G \\nSmith@EES, Bobbie Power/Corp/Enron@ENRON\\ncc: Joe Witherspoon/Corp/Enron@ENRON, Rodney Keys/Corp/Enron@ENRON, DeMonica \\nLipscomb/Corp/Enron@ENRON, Vanessa Groscrand/Corp/Enron@Enron, Suzanne \\nDanz/Corp/Enron@ENRON, Keith Dziadek/HOU/EES@EES \\nSubject: EXECUTIVE COMMITTEE MEETINGS - MONDAY, JANUARY 17\\n\\nPlease respond regarding your attendance at the following events:\\n\\nExecutive Committee Breakfast\\nDate:  Monday, January 17\\nTime:  7:30 a.m.\\nLocation: EB50M\\n\\nPlease indicate below whether or not you will attend the breakfast.\\n \\n  Yes, I will attend _____\\n  \\n  No, I will not attend _____\\n\\n*  *  *\\n\\nExecutive Committee Weekly Meeting\\nDate:  Monday, January 17\\nTime:  11:00 a.m. (CDT)\\nLocation: 50th Floor Boardroom\\nVideo:  Connections will be established with remote locations upon request.\\nConf call: A conference call bridge has been reserved.  The dial in number \\n713/853-3233.\\n  Please contact Sherri Sera (713/853-5984) or Katherine Brown (713/345-7774)\\n  for the weekly passcode.\\n\\nPlease indicate below whether or not you plan to attend this meeting and \\nthrough what medium. \\n\\n Yes, I will attend in person _______\\n\\n By video conference from _______\\n\\n By conference call  _______\\n\\n No, I will not attend  _______\\n\\n*  *  *\\n\\nPlease return this e-mail to me with your response by 12:00 p.m., Friday, \\nJanuary 14.\\n\\nThank you, \\nSherri\\n\\n', to=[u'sherri.reinartz@enron.com'])]"
      ]
     },
     "execution_count": 28,
     "metadata": {},
     "output_type": "execute_result"
    }
   ],
   "source": [
    "email.take(1)"
   ]
  },
  {
   "cell_type": "code",
   "execution_count": 29,
   "metadata": {
    "collapsed": false
   },
   "outputs": [],
   "source": [
    "# tokenize documents\n",
    "tokenized_rdd = email.select('text').rdd \\\n",
    "  .map(lambda row: row.text) \\\n",
    "  .map(lambda text: text.replace('\\n', ' ').replace('\\r', ' ')) \\\n",
    "  .map(lambda text: tokenize(text)) \\\n",
    "  .filter(lambda text: len(text) > 0)\n",
    "\n",
    "# compute term and document frequencies\n",
    "term_frequency = tokenized_rdd.map(lambda terms: Counter(terms))\n",
    "\n",
    "doc_frequency = term_frequency.flatMap(lambda counts: counts.keys()) \\\n",
    "                             .map(lambda keys: (keys, 1)) \\\n",
    "                             .reduceByKey(lambda a, b: a + b)"
   ]
  },
  {
   "cell_type": "code",
   "execution_count": 30,
   "metadata": {
    "collapsed": false
   },
   "outputs": [
    {
     "data": {
      "text/plain": [
       "[[u'attend',\n",
       "  u'rosie',\n",
       "  u'sherri',\n",
       "  u'reinartz',\n",
       "  u'james',\n",
       "  u'cliff',\n",
       "  u'sanjay',\n",
       "  u'rick',\n",
       "  u'richard',\n",
       "  u'diomedes',\n",
       "  u'james',\n",
       "  u'andrew',\n",
       "  u'peggy',\n",
       "  u'mark',\n",
       "  u'kevin',\n",
       "  u'david',\n",
       "  u'stanley',\n",
       "  u'kurt',\n",
       "  u'larry',\n",
       "  u'steven',\n",
       "  u'mark',\n",
       "  u'kenneth',\n",
       "  u'rebecca',\n",
       "  u'mike',\n",
       "  u'rebecca',\n",
       "  u'jeffrey',\n",
       "  u'mark',\n",
       "  u'cindy',\n",
       "  u'kenneth',\n",
       "  u'jeffrey',\n",
       "  u'john',\n",
       "  u'jeff',\n",
       "  u'joseph',\n",
       "  u'greg',\n",
       "  u'thomas',\n",
       "  u'brenda',\n",
       "  u'marcia',\n",
       "  u'susan',\n",
       "  u'stacy',\n",
       "  u'beena',\n",
       "  u'karen',\n",
       "  u'sharron',\n",
       "  u'molly',\n",
       "  u'rosane',\n",
       "  u'stephanie',\n",
       "  u'bridget',\n",
       "  u'shelby',\n",
       "  u'shelby',\n",
       "  u'mary',\n",
       "  u'nicki',\n",
       "  u'carol',\n",
       "  u'dolly',\n",
       "  u'elaine',\n",
       "  u'nancy',\n",
       "  u'cindy',\n",
       "  u'sherryl',\n",
       "  u'mary',\n",
       "  u'maureen',\n",
       "  u'joannie',\n",
       "  u'rosalee',\n",
       "  u'vanessa',\n",
       "  u'marsha',\n",
       "  u'cathy',\n",
       "  u'loretta',\n",
       "  u'dolores',\n",
       "  u'karen',\n",
       "  u'dorothy',\n",
       "  u'christina',\n",
       "  u'lauren',\n",
       "  u'sherri',\n",
       "  u'katherine',\n",
       "  u'judy',\n",
       "  u'bobbie',\n",
       "  u'rodney',\n",
       "  u'demonica',\n",
       "  u'vanessa',\n",
       "  u'suzanne',\n",
       "  u'keith',\n",
       "  u'executive',\n",
       "  u'committee',\n",
       "  u'meetings',\n",
       "  u'january',\n",
       "  u'please',\n",
       "  u'respond',\n",
       "  u'regarding',\n",
       "  u'attendance',\n",
       "  u'following',\n",
       "  u'executive',\n",
       "  u'committee',\n",
       "  u'breakfast',\n",
       "  u'january',\n",
       "  u'please',\n",
       "  u'indicate',\n",
       "  u'whether',\n",
       "  u'attend',\n",
       "  u'attend',\n",
       "  u'attend',\n",
       "  u'executive',\n",
       "  u'committee',\n",
       "  u'weekly',\n",
       "  u'meeting',\n",
       "  u'january',\n",
       "  u'floor',\n",
       "  u'boardroom',\n",
       "  u'connections',\n",
       "  u'established',\n",
       "  u'remote',\n",
       "  u'locations',\n",
       "  u'upon',\n",
       "  u'conf',\n",
       "  u'conference',\n",
       "  u'call',\n",
       "  u'bridge',\n",
       "  u'dial',\n",
       "  u'number',\n",
       "  u'please',\n",
       "  u'contact',\n",
       "  u'sherri',\n",
       "  u'sera',\n",
       "  u'katherine',\n",
       "  u'brown',\n",
       "  u'weekly',\n",
       "  u'please',\n",
       "  u'indicate',\n",
       "  u'whether',\n",
       "  u'plan',\n",
       "  u'attend',\n",
       "  u'meeting',\n",
       "  u'attend',\n",
       "  u'person',\n",
       "  u'video',\n",
       "  u'conference',\n",
       "  u'conference',\n",
       "  u'call',\n",
       "  u'attend',\n",
       "  u'please',\n",
       "  u'return',\n",
       "  u'e-mail',\n",
       "  u'response',\n",
       "  u'january',\n",
       "  u'thank',\n",
       "  u'sherri']]"
      ]
     },
     "execution_count": 30,
     "metadata": {},
     "output_type": "execute_result"
    }
   ],
   "source": [
    "tokenized_rdd.take(1)"
   ]
  },
  {
   "cell_type": "code",
   "execution_count": 31,
   "metadata": {
    "collapsed": false
   },
   "outputs": [
    {
     "name": "stdout",
     "output_type": "stream",
     "text": [
      "5866\n"
     ]
    },
    {
     "data": {
      "text/plain": [
       "[Counter({u'andrew': 1,\n",
       "          u'attend': 7,\n",
       "          u'attendance': 1,\n",
       "          u'beena': 1,\n",
       "          u'boardroom': 1,\n",
       "          u'bobbie': 1,\n",
       "          u'breakfast': 1,\n",
       "          u'brenda': 1,\n",
       "          u'bridge': 1,\n",
       "          u'bridget': 1,\n",
       "          u'brown': 1,\n",
       "          u'call': 2,\n",
       "          u'carol': 1,\n",
       "          u'cathy': 1,\n",
       "          u'christina': 1,\n",
       "          u'cindy': 2,\n",
       "          u'cliff': 1,\n",
       "          u'committee': 3,\n",
       "          u'conf': 1,\n",
       "          u'conference': 3,\n",
       "          u'connections': 1,\n",
       "          u'contact': 1,\n",
       "          u'david': 1,\n",
       "          u'demonica': 1,\n",
       "          u'dial': 1,\n",
       "          u'diomedes': 1,\n",
       "          u'dolly': 1,\n",
       "          u'dolores': 1,\n",
       "          u'dorothy': 1,\n",
       "          u'e-mail': 1,\n",
       "          u'elaine': 1,\n",
       "          u'established': 1,\n",
       "          u'executive': 3,\n",
       "          u'floor': 1,\n",
       "          u'following': 1,\n",
       "          u'greg': 1,\n",
       "          u'indicate': 2,\n",
       "          u'james': 2,\n",
       "          u'january': 4,\n",
       "          u'jeff': 1,\n",
       "          u'jeffrey': 2,\n",
       "          u'joannie': 1,\n",
       "          u'john': 1,\n",
       "          u'joseph': 1,\n",
       "          u'judy': 1,\n",
       "          u'karen': 2,\n",
       "          u'katherine': 2,\n",
       "          u'keith': 1,\n",
       "          u'kenneth': 2,\n",
       "          u'kevin': 1,\n",
       "          u'kurt': 1,\n",
       "          u'larry': 1,\n",
       "          u'lauren': 1,\n",
       "          u'locations': 1,\n",
       "          u'loretta': 1,\n",
       "          u'marcia': 1,\n",
       "          u'mark': 3,\n",
       "          u'marsha': 1,\n",
       "          u'mary': 2,\n",
       "          u'maureen': 1,\n",
       "          u'meeting': 2,\n",
       "          u'meetings': 1,\n",
       "          u'mike': 1,\n",
       "          u'molly': 1,\n",
       "          u'nancy': 1,\n",
       "          u'nicki': 1,\n",
       "          u'number': 1,\n",
       "          u'peggy': 1,\n",
       "          u'person': 1,\n",
       "          u'plan': 1,\n",
       "          u'please': 5,\n",
       "          u'rebecca': 2,\n",
       "          u'regarding': 1,\n",
       "          u'reinartz': 1,\n",
       "          u'remote': 1,\n",
       "          u'respond': 1,\n",
       "          u'response': 1,\n",
       "          u'return': 1,\n",
       "          u'richard': 1,\n",
       "          u'rick': 1,\n",
       "          u'rodney': 1,\n",
       "          u'rosalee': 1,\n",
       "          u'rosane': 1,\n",
       "          u'rosie': 1,\n",
       "          u'sanjay': 1,\n",
       "          u'sera': 1,\n",
       "          u'sharron': 1,\n",
       "          u'shelby': 2,\n",
       "          u'sherri': 4,\n",
       "          u'sherryl': 1,\n",
       "          u'stacy': 1,\n",
       "          u'stanley': 1,\n",
       "          u'stephanie': 1,\n",
       "          u'steven': 1,\n",
       "          u'susan': 1,\n",
       "          u'suzanne': 1,\n",
       "          u'thank': 1,\n",
       "          u'thomas': 1,\n",
       "          u'upon': 1,\n",
       "          u'vanessa': 2,\n",
       "          u'video': 1,\n",
       "          u'weekly': 2,\n",
       "          u'whether': 2})]"
      ]
     },
     "execution_count": 31,
     "metadata": {},
     "output_type": "execute_result"
    }
   ],
   "source": [
    "print term_frequency.count()\n",
    "term_frequency.take(1)"
   ]
  },
  {
   "cell_type": "code",
   "execution_count": 32,
   "metadata": {
    "collapsed": false
   },
   "outputs": [
    {
     "data": {
      "text/plain": [
       "[(u'aided', 1),\n",
       " (u'four', 190),\n",
       " (u'prices', 111),\n",
       " (u'cyprus', 1),\n",
       " (u'looking', 234)]"
      ]
     },
     "execution_count": 32,
     "metadata": {},
     "output_type": "execute_result"
    }
   ],
   "source": [
    "doc_frequency.take(5)"
   ]
  },
  {
   "cell_type": "code",
   "execution_count": 33,
   "metadata": {
    "collapsed": false
   },
   "outputs": [],
   "source": [
    "total_emails = term_frequency.count()"
   ]
  },
  {
   "cell_type": "code",
   "execution_count": 34,
   "metadata": {
    "collapsed": false
   },
   "outputs": [
    {
     "data": {
      "text/plain": [
       "[(u'aided', 7.983781068977451),\n",
       " (u'four', 3.4246548214907664),\n",
       " (u'prices', 3.9584293782423017)]"
      ]
     },
     "execution_count": 34,
     "metadata": {},
     "output_type": "execute_result"
    }
   ],
   "source": [
    "import math\n",
    "\n",
    "enron_idf = doc_frequency.map(lambda tup: (tup[0], math.log(float(total_emails)/ (1 + tup[1])))).collect()\n",
    "enron_idf[:3]"
   ]
  },
  {
   "cell_type": "code",
   "execution_count": 35,
   "metadata": {
    "collapsed": false
   },
   "outputs": [],
   "source": [
    "broadcast_idf = sc.broadcast(enron_idf)"
   ]
  },
  {
   "cell_type": "code",
   "execution_count": 36,
   "metadata": {
    "collapsed": false
   },
   "outputs": [
    {
     "data": {
      "text/plain": [
       "[array([ 0.,  0.,  0., ...,  0.,  0.,  0.]),\n",
       " array([ 0.,  0.,  0., ...,  0.,  0.,  0.])]"
      ]
     },
     "execution_count": 36,
     "metadata": {},
     "output_type": "execute_result"
    }
   ],
   "source": [
    "enron_tfidf = tokenized_rdd.map(tfidf_vectorize)\n",
    "enron_tfidf.take(2)"
   ]
  },
  {
   "cell_type": "code",
   "execution_count": 37,
   "metadata": {
    "collapsed": false
   },
   "outputs": [
    {
     "name": "stdout",
     "output_type": "stream",
     "text": [
      "Within Set Sum of Squared Error = 3908.54865772\n"
     ]
    }
   ],
   "source": [
    "clusters = KMeans.train(enron_tfidf, 10, maxIterations=10, runs=10, initializationMode=\"random\")\n",
    "WSSSE = enron_tfidf.map(lambda point: error(point)).reduce(lambda x, y: x + y)\n",
    "print(\"Within Set Sum of Squared Error = \" + str(WSSSE))"
   ]
  },
  {
   "cell_type": "code",
   "execution_count": 38,
   "metadata": {
    "collapsed": false
   },
   "outputs": [
    {
     "data": {
      "text/plain": [
       "[array([ 0.,  0.,  0., ...,  0.,  0.,  0.]),\n",
       " array([ 0.,  0.,  0., ...,  0.,  0.,  0.]),\n",
       " array([  1.34998902e-05,   1.31342596e-03,   7.49086345e-04, ...,\n",
       "          1.43436333e-05,   4.48880579e-05,   2.32181552e-04]),\n",
       " array([ 0.,  0.,  0., ...,  0.,  0.,  0.]),\n",
       " array([ 0.,  0.,  0., ...,  0.,  0.,  0.]),\n",
       " array([ 0.,  0.,  0., ...,  0.,  0.,  0.]),\n",
       " array([ 0.,  0.,  0., ...,  0.,  0.,  0.]),\n",
       " array([ 0.,  0.,  0., ...,  0.,  0.,  0.]),\n",
       " array([ 0.,  0.,  0., ...,  0.,  0.,  0.]),\n",
       " array([ 0.,  0.,  0., ...,  0.,  0.,  0.])]"
      ]
     },
     "execution_count": 38,
     "metadata": {},
     "output_type": "execute_result"
    }
   ],
   "source": [
    "clusters.centers"
   ]
  },
  {
   "cell_type": "code",
   "execution_count": 39,
   "metadata": {
    "collapsed": false
   },
   "outputs": [
    {
     "name": "stdout",
     "output_type": "stream",
     "text": [
      "[u'number', u'special', u'ordering']\n",
      "[u'nemtzow', u'alliance', u'save']\n",
      "[u'enron', u'attached', u'energy']\n",
      "[u'games', u'generousity', u'objecting']\n",
      "[u'expense', u'approved', u'report']\n",
      "[u'gracie', u'enjoyable', u'holidays']\n",
      "[u'holiday', u'launch', u'link']\n",
      "[u'unit', u'leavers', u'eeos']\n",
      "[u'high-quality', u'magazine', u'listed']\n",
      "[u'chairman', u'corey', u'cairo']\n"
     ]
    }
   ],
   "source": [
    "top_n = 3\n",
    "for i in range(0,10):\n",
    "    print([enron_idf[idx][0] for idx in [np.argsort(x)[::-1][:top_n] for x in clusters.centers][i]])"
   ]
  },
  {
   "cell_type": "code",
   "execution_count": null,
   "metadata": {
    "collapsed": true
   },
   "outputs": [],
   "source": []
  }
 ],
 "metadata": {
  "anaconda-cloud": {},
  "kernelspec": {
   "display_name": "Python [default]",
   "language": "python",
   "name": "python2"
  },
  "language_info": {
   "codemirror_mode": {
    "name": "ipython",
    "version": 2
   },
   "file_extension": ".py",
   "mimetype": "text/x-python",
   "name": "python",
   "nbconvert_exporter": "python",
   "pygments_lexer": "ipython2",
   "version": "2.7.12"
  }
 },
 "nbformat": 4,
 "nbformat_minor": 0
}
